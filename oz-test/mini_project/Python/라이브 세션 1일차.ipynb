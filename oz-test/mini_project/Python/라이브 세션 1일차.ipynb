{
 "cells": [
  {
   "cell_type": "markdown",
   "metadata": {},
   "source": [
    "파이썬 장점\n",
    "- 내장 함수 or 기본 함수"
   ]
  },
  {
   "cell_type": "markdown",
   "metadata": {},
   "source": [
    "1. list에 적용할 수 있는 기본 함수 : min(), max(), sum()\n",
    "- min(), max(), sum(a, 1, 2, 3) 함수들은 매개변수로 넣어 사용하는 매우 기본적인 함수입니다.\n",
    "\n",
    "ex) min(['사과', '배', '오렌지'])   (매개변수: 함수 안에 입력되는 모든 값)\n",
    "\n",
    "min() : 리스트 안에 있는 값들 중 가장 작은 값\n",
    "max() : 리스트 안에 있는 값들 중 가장 큰 값\n",
    "sum() : 리스트 안에 있는 모든 값들의 합"
   ]
  },
  {
   "cell_type": "code",
   "execution_count": null,
   "metadata": {},
   "outputs": [],
   "source": [
    "numbers = [4, 53, 62, 74, 89]\n",
    "\n",
    "print(min(numbers))\n",
    "print(max(numbers))\n",
    "print(sum(numbers))"
   ]
  },
  {
   "cell_type": "code",
   "execution_count": null,
   "metadata": {},
   "outputs": [],
   "source": [
    "print(min(1, 2, 3, 4, 5))\n",
    "print(max(1, 2, 3, 4, 5))"
   ]
  },
  {
   "cell_type": "markdown",
   "metadata": {},
   "source": [
    "2. reversed() \n",
    "- 리스트 내부의 값을 뒤집을 때 사용.\n",
    "- reversed() 리스트를 매개변수로 받음."
   ]
  },
  {
   "cell_type": "code",
   "execution_count": null,
   "metadata": {},
   "outputs": [],
   "source": [
    "numbers = [0,1,2,3,4,5]\n",
    "numbers_reversed = reversed(numbers)\n",
    "\n",
    "print(numbers)\n",
    "print(numbers_reversed)\n",
    "\n",
    "print(list(numbers_reversed))"
   ]
  },
  {
   "cell_type": "code",
   "execution_count": null,
   "metadata": {},
   "outputs": [],
   "source": [
    "result = reversed([1, 2, 3, 4, 5, 6])\n",
    "reversed_list = list(result)\n",
    "\n",
    "for i in reversed_list:\n",
    "    print(f'첫 번째 for문 {i}')\n",
    "\n",
    "for i in reversed_list:\n",
    "    print(f'두 번째 for문 {i}')"
   ]
  },
  {
   "cell_type": "code",
   "execution_count": null,
   "metadata": {},
   "outputs": [],
   "source": [
    "result = [1, 2, 3, 4, 5, 6]\n",
    "\n",
    "for i in reversed(result):\n",
    "    print(f'첫 번째 for문 {i}')\n",
    "\n",
    "for i in reversed(result):\n",
    "    print(f'두 번째 for문 {i}')"
   ]
  },
  {
   "cell_type": "markdown",
   "metadata": {},
   "source": [
    "3. enumerate() 함수와 반복문 조합하기"
   ]
  },
  {
   "cell_type": "code",
   "execution_count": null,
   "metadata": {},
   "outputs": [],
   "source": [
    "items = [\"사과\", \"바나나\", \"배\"]\n",
    "# 이렇게 출력되게 코드를 작성해주세요\n",
    "# 0번째는 사과입니다.\n",
    "# 1번째는 바나나입니다.\n",
    "# 2번째는 배입니다.\n",
    "\n",
    "for index, item in enumerate(items):\n",
    "    print(f'{index}번째는 {item}입니다.')"
   ]
  },
  {
   "cell_type": "code",
   "execution_count": null,
   "metadata": {},
   "outputs": [],
   "source": [
    "# 다른 예시\n",
    "items = [\"사과\", \"바나나\", \"배\"]\n",
    "\n",
    "for i in range(len(items)):\n",
    "    print(f'{i}번째는 {items[i]}입니다.')"
   ]
  },
  {
   "cell_type": "code",
   "execution_count": null,
   "metadata": {},
   "outputs": [],
   "source": [
    "# 다른 예시\n",
    "item = [\"사과\", \"바나나\", \"배\"]\n",
    "\n",
    "i = 0\n",
    "for item in items:\n",
    "    print(f'{i}번째는 {item}입니다.')\n",
    "    i += 1"
   ]
  },
  {
   "cell_type": "code",
   "execution_count": null,
   "metadata": {},
   "outputs": [],
   "source": [
    "# 다른 예시\n",
    "items = [\"사과\", \"바나나\", \"배\"]\n",
    "print(enumerate(items))\n",
    "\n",
    "print(list(enumerate(items)))\n",
    "\n",
    "for item in enumerate(items):\n",
    "    print(f'{i}번째는 {item}입니다.')"
   ]
  },
  {
   "cell_type": "markdown",
   "metadata": {},
   "source": [
    "4. 딕셔너리의 items() 함수와 반복문 조합하기"
   ]
  },
  {
   "cell_type": "code",
   "execution_count": 30,
   "metadata": {},
   "outputs": [
    {
     "name": "stdout",
     "output_type": "stream",
     "text": [
      "{'key_1': 'val_1', 'key_2': 'val_2', 'key_3': 'val_3'}\n",
      "dict_items([('key_1', 'val_1'), ('key_2', 'val_2'), ('key_3', 'val_3')])\n"
     ]
    }
   ],
   "source": [
    "oz_dict = {\n",
    "    \"key_1\" : \"val_1\",\n",
    "    \"key_2\" : \"val_2\",\n",
    "    \"key_3\" : \"val_3\",\n",
    "}\n",
    "\n",
    "print(oz_dict)\n",
    "print(oz_dict.items())"
   ]
  },
  {
   "cell_type": "code",
   "execution_count": 32,
   "metadata": {},
   "outputs": [
    {
     "name": "stdout",
     "output_type": "stream",
     "text": [
      "oz_dict : ('key_1', 'val_1')\n",
      "oz_dict : ('key_2', 'val_2')\n",
      "oz_dict : ('key_3', 'val_3')\n"
     ]
    }
   ],
   "source": [
    "for key, value in oz_dict.items():\n",
    "    print(f'oz_dict : {key, value}')"
   ]
  },
  {
   "cell_type": "markdown",
   "metadata": {},
   "source": [
    "5. 리스트 배포\n",
    "- 프로그램을 만들 때 반복문을 사용해 리스트를 재조합하는 상황이 많이 발생 합니다.\n",
    "\n",
    "0 부터 100까지 숫자 중 짝수인 수를 뽑고, 그 수를 제곱한 결과를 리스트에 담아서 출력해주세요."
   ]
  },
  {
   "cell_type": "code",
   "execution_count": 33,
   "metadata": {},
   "outputs": [
    {
     "name": "stdout",
     "output_type": "stream",
     "text": [
      "[0, 4, 16, 36, 64, 100, 144, 196, 256, 324, 400, 484, 576, 676, 784, 900, 1024, 1156, 1296, 1444, 1600, 1764, 1936, 2116, 2304, 2500, 2704, 2916, 3136, 3364, 3600, 3844, 4096, 4356, 4624, 4900, 5184, 5476, 5776, 6084, 6400, 6724, 7056, 7396, 7744, 8100, 8464, 8836, 9216, 9604, 10000]\n"
     ]
    }
   ],
   "source": [
    "even_list = []\n",
    "\n",
    "for num in range(0, 101, 2):\n",
    "    even_list.append(num ** 2)\n",
    "\n",
    "print(even_list)"
   ]
  },
  {
   "cell_type": "code",
   "execution_count": null,
   "metadata": {},
   "outputs": [],
   "source": [
    "result = []\n",
    "\n",
    "for i in range(0, 102, 2):\n",
    "    result.append(i*i)\n",
    "\n",
    "print(result)"
   ]
  },
  {
   "cell_type": "code",
   "execution_count": 35,
   "metadata": {},
   "outputs": [],
   "source": [
    "# 잘 쓰면 좋은데 비추 코드\n",
    "result = [i**2 for i in range(0, 102, 2)]"
   ]
  },
  {
   "cell_type": "markdown",
   "metadata": {},
   "source": [
    "리스트 이름 = [표현식 for 반복자 in 반복할 것]\n",
    "리스트 이름 = [표현식 for 반복자 in 반복할 것 if 조건]\n",
    "리스트 컴프리헨션, 사용할 때 조심하고 무한 반복되지 않게 조심해야 함."
   ]
  },
  {
   "cell_type": "code",
   "execution_count": 36,
   "metadata": {},
   "outputs": [
    {
     "name": "stdout",
     "output_type": "stream",
     "text": [
      "['닥스훈트', '웰시코기', '푸들', '말티즈']\n"
     ]
    }
   ],
   "source": [
    "dogs = [\"닥스훈트\", \"웰시코기\", \"시바견\", \"푸들\", \"말티즈\"]\n",
    "result = [dog for dog in dogs if dog != \"시바견\"]\n",
    "print(result)"
   ]
  },
  {
   "cell_type": "markdown",
   "metadata": {},
   "source": [
    "6. 이터레이터\n",
    "\n",
    "for 반복 in 반복할 것:\n",
    "    코드\n",
    "\n",
    "반복할 것 => 이터러블 => 이터러블한 것에서 하나씩 데이터를 꺼내는데 이러한 데이터 또는 요소를 이터레이터라고 한다.\n",
    "\n",
    "리스트 (List): 순서가 있는 요소들의 시퀀스입니다.\n",
    "튜플 (Tuple): 변경할 수 없는 순서가 있는 요소들의 시퀀스입니다.\n",
    "문자열 (String): 문자들의 시퀀스입니다.\n",
    "세트 (Set): 고유한 요소들의 모음입니다. 순서가 없으며, 요소들 간에 중복이 없습니다.\n",
    "딕셔너리 (Dictionary): 키-값 쌍들의 모음입니다. 키는 고유해야 하며, 순서가 없습니다.\n",
    "범위 (Range): 연속된 숫자들의 시퀀스를 나타냅니다.\n",
    "파일 객체 (File Object): 파일에서 데이터를 읽거나 쓸 수 있는 객체입니다.\n",
    "제너레이터 (Generator): 순회 가능한 객체를 생성하는 함수 또는 이터레이터입니다."
   ]
  },
  {
   "cell_type": "code",
   "execution_count": 37,
   "metadata": {},
   "outputs": [
    {
     "name": "stdout",
     "output_type": "stream",
     "text": [
      "<list_reverseiterator object at 0x112877e80>\n",
      "5\n",
      "4\n",
      "3\n",
      "2\n",
      "1\n"
     ]
    }
   ],
   "source": [
    "numbers = [1, 2, 3, 4, 5]\n",
    "numbers_reversed = reversed(numbers)\n",
    "\n",
    "print(numbers_reversed)\n",
    "print(next(numbers_reversed))\n",
    "print(next(numbers_reversed))\n",
    "print(next(numbers_reversed))\n",
    "print(next(numbers_reversed))\n",
    "print(next(numbers_reversed))\n",
    "\n",
    "# for 문을 사용하면 next 이터레이터를 사용하지 않아도 자동으로 출력 가능."
   ]
  }
 ],
 "metadata": {
  "kernelspec": {
   "display_name": "Python 3",
   "language": "python",
   "name": "python3"
  },
  "language_info": {
   "codemirror_mode": {
    "name": "ipython",
    "version": 3
   },
   "file_extension": ".py",
   "mimetype": "text/x-python",
   "name": "python",
   "nbconvert_exporter": "python",
   "pygments_lexer": "ipython3",
   "version": "3.12.2"
  }
 },
 "nbformat": 4,
 "nbformat_minor": 2
}
