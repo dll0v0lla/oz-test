{
 "cells": [
  {
   "cell_type": "code",
   "execution_count": 1,
   "metadata": {},
   "outputs": [
    {
     "name": "stdout",
     "output_type": "stream",
     "text": [
      "주문이 완료되었습니다. 팥 2개, 잡채 3개, 총 5개 결제 금액은 13000원 입니다.\n"
     ]
    }
   ],
   "source": [
    "fishes = {\"팥\": 2000, \"슈크림\": 2500, \"잡채\": 3000}\n",
    "\n",
    "orders = {\"팥\": 2, \"잡채\": 3}\n",
    "\n",
    "total_count = sum(orders.values())\n",
    "total_price = sum(fishes[fish] * count for fish, count in orders.items())\n",
    "\n",
    "print(f'주문이 완료되었습니다. ', end='')\n",
    "for fish, count in orders.items():\n",
    "    print(f'{fish} {count}개', end=', ')\n",
    "print(f'총 {total_count}개 결제 금액은 {total_price}원 입니다.')"
   ]
  }
 ],
 "metadata": {
  "kernelspec": {
   "display_name": "Python 3",
   "language": "python",
   "name": "python3"
  },
  "language_info": {
   "codemirror_mode": {
    "name": "ipython",
    "version": 3
   },
   "file_extension": ".py",
   "mimetype": "text/x-python",
   "name": "python",
   "nbconvert_exporter": "python",
   "pygments_lexer": "ipython3",
   "version": "3.12.2"
  }
 },
 "nbformat": 4,
 "nbformat_minor": 2
}
