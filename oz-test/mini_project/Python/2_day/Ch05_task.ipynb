{
 "cells": [
  {
   "cell_type": "markdown",
   "metadata": {},
   "source": [
    "<span style=\"font-size:100%\">\n",
    "\n",
    "수업은 모두 열심히 들으셨나요?\n",
    "\n",
    "간혹 강의에서 언급되지 않은 내용이 문제로 나올 수 있습니다.<br>\n",
    "그럴땐 강의 내용 외 문제는 구글링을 통해 해결해주세요<br></span>\n",
    "<span style=\"font-size:80%\">\n",
    "(구글링 또한 개발자가 갖쳐야할 역량 중에 하나랍니다 😊)\n",
    "</span>\n",
    "\n",
    "---"
   ]
  },
  {
   "cell_type": "markdown",
   "metadata": {},
   "source": [
    "<span style=\"font-size:80%\">[문제1]<br><br></span>\n",
    "```Python으로 변수를 생성하는 방법으로 올바른 것을 고르세요```\n",
    "\n",
    "1. number == 20\n",
    "2. 100 == number\n",
    "3. number(7)\n",
    "4. number = 7"
   ]
  },
  {
   "cell_type": "markdown",
   "metadata": {},
   "source": [
    "<span style=\"color:red\">답변</span>"
   ]
  },
  {
   "cell_type": "markdown",
   "metadata": {},
   "source": [
    "4번"
   ]
  },
  {
   "cell_type": "markdown",
   "metadata": {},
   "source": [
    "----"
   ]
  },
  {
   "cell_type": "markdown",
   "metadata": {},
   "source": [
    "<span style=\"font-size:80%\">[문제2]<br><br></span>\n",
    "```다음 중 올바르지 않은 것을 골라주세요```\n",
    "\n",
    "이름 = \"김오즈\"<br>\n",
    "나이 = 14<br>\n",
    "소속 = \"마법중\"<br>\n",
    "등급 = 3<br>\n",
    "\n",
    "1. 이름 + 소속\n",
    "2. 나이 + 등급\n",
    "3. 소속 + 등급"
   ]
  },
  {
   "cell_type": "markdown",
   "metadata": {},
   "source": [
    "<span style=\"color:red\">답변</span>"
   ]
  },
  {
   "cell_type": "markdown",
   "metadata": {},
   "source": [
    "2번"
   ]
  },
  {
   "cell_type": "markdown",
   "metadata": {},
   "source": [
    "----"
   ]
  },
  {
   "cell_type": "markdown",
   "metadata": {},
   "source": [
    "<span style=\"font-size:80%\">[문제3]<br><br></span>\n",
    "```아래 변수의 type으로 올바른것을 골라주세요```\n",
    "\n",
    "퀴즈 = \"스페인에서 카리나를 보고 하는 말은?\"<br>\n",
    "type(퀴즈)"
   ]
  },
  {
   "cell_type": "markdown",
   "metadata": {},
   "source": [
    "<span style=\"color:red\">답변</span>"
   ]
  },
  {
   "cell_type": "markdown",
   "metadata": {},
   "source": [
    "스트링(문자열)"
   ]
  },
  {
   "cell_type": "markdown",
   "metadata": {},
   "source": [
    "----"
   ]
  },
  {
   "cell_type": "markdown",
   "metadata": {},
   "source": [
    "<span style=\"font-size:80%\">[문제4]<br><br></span>\n",
    "```다음 중 변수 이름으로 사용할 수 없는 것을 모두 골라주세요```\n",
    "\n",
    "1. 78abc\n",
    "2. ABC\n",
    "3. _ABC\n",
    "4. _hello%2\n",
    "5. for"
   ]
  },
  {
   "cell_type": "markdown",
   "metadata": {},
   "source": [
    "<span style=\"color:red\">답변</span>"
   ]
  },
  {
   "cell_type": "markdown",
   "metadata": {},
   "source": [
    "1번 78abc: 변수 이름은 숫자로 시작할 수 없습니다.\n",
    "4번 _hello%2: 변수 이름으로는 특수문자인 %를 사용할 수 없습니다.\n",
    "5번 for: 파이썬의 예약어이므로 변수 이름으로 사용할 수 없습니다."
   ]
  },
  {
   "cell_type": "markdown",
   "metadata": {},
   "source": [
    "----"
   ]
  },
  {
   "cell_type": "markdown",
   "metadata": {},
   "source": [
    "<span style=\"font-size:80%\">[문제5]<br><br></span>\n",
    "```다음 중 변수와 연산자의 사용 방법으로 올바르지 않은 것을 모두 골라주세요```\n",
    "\n",
    "x = 3\n",
    "y = 7\n",
    "\n",
    "1. x = x + y\n",
    "2. x // 2\n",
    "3. z >< x\n",
    "4. y += x\n",
    "5. ++x"
   ]
  },
  {
   "cell_type": "markdown",
   "metadata": {},
   "source": [
    "<span style=\"color:red\">답변</span>"
   ]
  },
  {
   "cell_type": "markdown",
   "metadata": {},
   "source": [
    "3번 z >< x : \"z >< x\"는 파이썬에서 사용되는 비교 연산자가 잘못 사용된 예입니다. 올바른 비교 연산자는 '<', '>', '<=', '>=' 등입니다. \"z >< x\"는 파이썬의 비교 연산자가 아니므로 올바르지 않습니다.\n",
    "5번 ++x: 이 부분은 증가 연산자(++)를 사용하고 있지만, 파이썬에서는 증가 연산자가 지원되지 않습니다. 대신에 x += 1과 같이 사용해야 합니다."
   ]
  }
 ],
 "metadata": {
  "language_info": {
   "name": "python"
  }
 },
 "nbformat": 4,
 "nbformat_minor": 2
}
